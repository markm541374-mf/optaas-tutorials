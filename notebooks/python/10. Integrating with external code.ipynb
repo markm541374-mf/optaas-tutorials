{
 "cells": [
  {
   "cell_type": "markdown",
   "metadata": {},
   "source": [
    "# OPTaaS Integrating with External Code\n",
    "    \n",
    "### Note: To run this notebook, you need an API Key. You can get one [here](mailto:charles.brecque@mindfoundry.ai)\n",
    "\n",
    "Here's how we can generate and run an OPTaaS Task using input from our local ML code or process. This is a simple problem, where we want to maximize the sum of 4 upside-down quadratics, all shifted by a variable amount.\n",
    "\n",
    "From our local code we will obtain a dictionary of shift amounts, e.g. `param_shifts = {'x1': 0.2, 'x2': 0.5}`. The parameter names, shift values and even the number of parameters may vary.\n",
    "\n",
    "So we will generate our OPTaaS task on the fly, based on a given value for `param_shifts`."
   ]
  },
  {
   "cell_type": "markdown",
   "metadata": {},
   "source": [
    "## Generating OPTaaS parameters"
   ]
  },
  {
   "cell_type": "code",
   "execution_count": 1,
   "metadata": {},
   "outputs": [],
   "source": [
    "from mindfoundry.optaas.client.parameter import FloatParameter, Distribution\n",
    "\n",
    "def make_parameters(param_shifts):\n",
    "    return [FloatParameter(name, minimum=-5, maximum=5, default=0, id=name, distribution=Distribution.UNIFORM)\n",
    "            for name in param_shifts]"
   ]
  },
  {
   "cell_type": "markdown",
   "metadata": {},
   "source": [
    "## Generating a scoring function\n",
    "Since the parameter names will vary, we can iterate over them as a dictionary."
   ]
  },
  {
   "cell_type": "code",
   "execution_count": 2,
   "metadata": {},
   "outputs": [],
   "source": [
    "def make_scoring_function(param_shifts): \n",
    "    def scoring_function(**params): \n",
    "        score = 10\n",
    "        for param_name, param_value in params.items():\n",
    "            score = score - (param_value - param_shifts[param_name]) ** 2\n",
    "        return score\n",
    "    \n",
    "    return scoring_function"
   ]
  },
  {
   "cell_type": "markdown",
   "metadata": {},
   "source": [
    "## Connect to OPTaaS and run your task"
   ]
  },
  {
   "cell_type": "code",
   "execution_count": 3,
   "metadata": {
    "collapsed": false
   },
   "outputs": [
    {
     "name": "stdout",
     "output_type": "stream",
     "text": [
      "Running task \"Task\" for 20 iterations\n",
      "(no score threshold set)\n",
      "\n",
      "Iteration: 0    Score: 9.620000000000001\n",
      "Configuration: {'x1': 0, 'x2': 0, 'x3': 0, 'x4': 0}\n",
      "\n",
      "Iteration: 1    Score: 9.620000000000001\n",
      "Configuration: {'x1': 0.0, 'x2': 0.0, 'x3': 0.0, 'x4': 0.0}\n",
      "\n",
      "Iteration: 2    Score: -17.380000000000003\n",
      "Configuration: {'x1': -2.5, 'x2': -2.5, 'x3': 2.5, 'x4': 2.5}\n",
      "\n",
      "Iteration: 3    Score: -13.379999999999999\n",
      "Configuration: {'x1': 2.5, 'x2': 2.5, 'x3': -2.5, 'x4': -2.5}\n",
      "\n",
      "Iteration: 4    Score: -14.129999999999999\n",
      "Configuration: {'x1': -1.25, 'x2': -3.75, 'x3': -1.25, 'x4': 1.25}\n",
      "\n",
      "Iteration: 5    Score: -29.130000000000003\n",
      "Configuration: {'x1': 3.75, 'x2': 1.25, 'x3': 3.75, 'x4': -3.75}\n",
      "\n",
      "Iteration: 6    Score: -11.13\n",
      "Configuration: {'x1': -3.75, 'x2': -1.25, 'x3': 1.25, 'x4': -1.25}\n",
      "\n",
      "Iteration: 7    Score: -32.129999999999995\n",
      "Configuration: {'x1': 1.25, 'x2': 3.75, 'x3': -3.75, 'x4': 3.75}\n",
      "\n",
      "Iteration: 8    Score: -11.442499999999999\n",
      "Configuration: {'x1': -1.875, 'x2': 1.875, 'x3': -3.125, 'x4': -1.875}\n",
      "\n",
      "Iteration: 9    Score: -23.9425\n",
      "Configuration: {'x1': 3.125, 'x2': -3.125, 'x3': 1.875, 'x4': 3.125}\n",
      "\n",
      "Iteration: 10    Score: 9.55297201577966\n",
      "Configuration: {'x1': -0.14467645279346159, 'x2': 0.060132863315640404, 'x3': -0.044226814830536136, 'x4': -0.1274791321228087}\n",
      "\n",
      "Iteration: 11    Score: 9.961420177166627\n",
      "Configuration: {'x1': 0.07647976812949842, 'x2': 0.39932655250433957, 'x3': 0.21852349351461547, 'x4': -0.0809259600641664}\n",
      "\n",
      "Iteration: 12    Score: 9.620076516875415\n",
      "Configuration: {'x1': 0.28618597337951185, 'x2': 0.09664937293776091, 'x3': 0.24025212273522795, 'x4': -0.45412985359703245}\n",
      "\n",
      "Iteration: 13    Score: 9.735945155256687\n",
      "Configuration: {'x1': -0.09114953680801283, 'x2': 0.20554255543541045, 'x3': 0.5897128367918615, 'x4': -0.09299504018117659}\n",
      "\n",
      "Iteration: 14    Score: 9.949483565537513\n",
      "Configuration: {'x1': 0.15177795620019002, 'x2': 0.2920174425434754, 'x3': 0.3362177959849527, 'x4': -0.060188005466986105}\n",
      "\n",
      "Iteration: 15    Score: 9.965473586495095\n",
      "Configuration: {'x1': 0.03267126914397496, 'x2': 0.47398344208593024, 'x3': 0.3755837061173222, 'x4': 0.01173675504096844}\n",
      "\n",
      "Iteration: 16    Score: 9.977177908433715\n",
      "Configuration: {'x1': 0.09478190356617325, 'x2': 0.452525868004667, 'x3': 0.34863703821973147, 'x4': -0.08445051245332028}\n",
      "\n",
      "Iteration: 17    Score: 9.990332704968985\n",
      "Configuration: {'x1': 0.1288790187288244, 'x2': 0.4487460120636654, 'x3': 0.3288669176602472, 'x4': -0.033894407200283354}\n",
      "\n",
      "Iteration: 18    Score: 9.996651908391126\n",
      "Configuration: {'x1': 0.1632800093101044, 'x2': 0.46919023232476076, 'x3': 0.3304960011377919, 'x4': -0.010976612547216446}\n",
      "\n",
      "Iteration: 19    Score: 9.998212785792392\n",
      "Configuration: {'x1': 0.18153107037105823, 'x2': 0.48106894005763695, 'x3': 0.3328111249485157, 'x4': 0.0033403435511831173}\n",
      "\n",
      "Task Completed\n",
      "\n",
      "Best Result: { 'configuration': { 'type': 'exploitation',\n",
      "  'values': { 'x1': 0.18153107037105823,\n",
      "              'x2': 0.48106894005763695,\n",
      "              'x3': 0.3328111249485157,\n",
      "              'x4': 0.0033403435511831173}},\n",
      "  'score': 9.998212785792392,\n",
      "  'user_defined_data': None}\n"
     ]
    }
   ],
   "source": [
    "from mindfoundry.optaas.client.client import OPTaaSClient\n",
    "from mindfoundry.optaas.client.goal import Goal\n",
    "\n",
    "example_param_shifts = {'x1': 0.2, 'x2': 0.5, 'x3': 0.3, 'x4': 0.0}\n",
    "\n",
    "client = OPTaaSClient('https://optaas.mindfoundry.ai', '<Your OPTaaS API key>')\n",
    "\n",
    "task = client.create_task(\n",
    "    title='Task',\n",
    "    parameters=make_parameters(example_param_shifts),\n",
    "    goal=Goal.max\n",
    ")\n",
    "\n",
    "scoring_function = make_scoring_function(example_param_shifts)\n",
    "\n",
    "best_result = task.run(scoring_function, max_iterations=20)\n",
    "print(\"Best Result:\", best_result)"
   ]
  }
 ],
 "metadata": {
  "kernelspec": {
   "display_name": "Python 3",
   "language": "python",
   "name": "python3"
  },
  "language_info": {
   "codemirror_mode": {
    "name": "ipython",
    "version": 3
   },
   "file_extension": ".py",
   "mimetype": "text/x-python",
   "name": "python",
   "nbconvert_exporter": "python",
   "pygments_lexer": "ipython3",
   "version": "3.6.6"
  }
 },
 "nbformat": 4,
 "nbformat_minor": 2
}
