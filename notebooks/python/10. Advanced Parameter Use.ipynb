{
 "cells": [
  {
   "cell_type": "markdown",
   "metadata": {},
   "source": [
    "# Scoring functions: many parameters and outside data\n",
    "    \n",
    "### Note: To run this notebook, you need an API Key. You can get one [here](mailto:charles.brecque@mindfoundry.ai)    \n",
    "More tutorials are [available here](./)"
   ]
  },
  {
   "cell_type": "code",
   "execution_count": 60,
   "metadata": {},
   "outputs": [],
   "source": [
    "from mindfoundry.optaas.client.client import OPTaaSClient, Goal\n",
    "from mindfoundry.optaas.client.parameter import FloatParameter, Distribution\n",
    "client = OPTaaSClient('<URL>', \"<API key>\")"
   ]
  },
  {
   "cell_type": "markdown",
   "metadata": {},
   "source": [
    "## Adding multiple parameters at once\n",
    "- Instead of adding parameters one by one, we can of course create a list.\n",
    "- When writing the scoring function, we can use a dict() to iterate over the parameters."
   ]
  },
  {
   "cell_type": "code",
   "execution_count": 62,
   "metadata": {},
   "outputs": [],
   "source": [
    "param_names = ['x1', 'x2', 'x3', 'x4']\n",
    "\n",
    "params = []\n",
    "for name in param_names:\n",
    "    params.append(FloatParameter(name, minimum=-5, maximum=5, default=0, id=name, distribution=Distribution.UNIFORM))"
   ]
  },
  {
   "cell_type": "code",
   "execution_count": 63,
   "metadata": {},
   "outputs": [],
   "source": [
    "# A simple problem, maximize the sum of 4 upside-down quadratics. All shifted by 2. So the optimum is at [2, 2, 2, 2]\n",
    "def scoring_function(**params):\n",
    "    score = 10\n",
    "    for param_name, param_value in params.items():  # iterate over each parameter, its name and value\n",
    "        score = score - (param_value - 2) ** 2\n",
    "    return score"
   ]
  },
  {
   "cell_type": "code",
   "execution_count": 64,
   "metadata": {},
   "outputs": [],
   "source": [
    "from mindfoundry.optaas.client.client import Goal\n",
    "\n",
    "task = client.create_task(\n",
    "    title='Advanced Parameter Task',\n",
    "    parameters=params,\n",
    "    goal=Goal.max\n",
    ")"
   ]
  },
  {
   "cell_type": "code",
   "execution_count": 65,
   "metadata": {},
   "outputs": [
    {
     "name": "stdout",
     "output_type": "stream",
     "text": [
      "Running task \"Advanced Parameter Task\" for 15 iterations\n",
      "(or until score is 32 or better)\n",
      "\n",
      "Iteration: 0    Score: -6\n",
      "Configuration: {'x1': 0, 'x2': 0, 'x3': 0, 'x4': 0}\n",
      "\n",
      "Iteration: 1    Score: -31.0\n",
      "Configuration: {'x1': 2.5, 'x2': -2.5, 'x3': 2.5, 'x4': -2.5}\n",
      "\n",
      "Iteration: 2    Score: -31.0\n",
      "Configuration: {'x1': -2.5, 'x2': 2.5, 'x3': -2.5, 'x4': 2.5}\n",
      "\n",
      "Iteration: 3    Score: -44.75\n",
      "Configuration: {'x1': -1.25, 'x2': -1.25, 'x3': 1.25, 'x4': -3.75}\n",
      "\n",
      "Iteration: 4    Score: -29.75\n",
      "Configuration: {'x1': 3.75, 'x2': 3.75, 'x3': -3.75, 'x4': 1.25}\n",
      "\n",
      "Iteration: 5    Score: -44.75\n",
      "Configuration: {'x1': 1.25, 'x2': -3.75, 'x3': -1.25, 'x4': -1.25}\n",
      "\n",
      "Iteration: 6    Score: -29.75\n",
      "Configuration: {'x1': -3.75, 'x2': 1.25, 'x3': 3.75, 'x4': 3.75}\n",
      "\n",
      "Iteration: 7    Score: -46.3125\n",
      "Configuration: {'x1': -3.125, 'x2': -1.875, 'x3': -1.875, 'x4': 1.875}\n",
      "\n",
      "Iteration: 8    Score: -18.8125\n",
      "Configuration: {'x1': 1.875, 'x2': 3.125, 'x3': 3.125, 'x4': -3.125}\n",
      "\n",
      "Iteration: 9    Score: -43.8125\n",
      "Configuration: {'x1': 4.375, 'x2': -4.375, 'x3': 0.625, 'x4': 4.375}\n",
      "\n",
      "Iteration: 10    Score: -6.0933211696958685\n",
      "Configuration: {'x1': -0.007370004341276711, 'x2': 0.0308667587602024, 'x3': -0.03255503585914391, 'x4': -0.013708305543495192}\n",
      "\n",
      "Iteration: 11    Score: -3.251459210935396\n",
      "Configuration: {'x1': 0.15818525273327486, 'x2': 0.19070093495571291, 'x3': 0.20872978953919413, 'x4': 0.16234780928713968}\n",
      "\n",
      "Iteration: 12    Score: 1.4802124186164547\n",
      "Configuration: {'x1': 0.5290476316990366, 'x2': 0.6437601671210751, 'x3': 0.7093955572249308, 'x4': 0.3114975867428762}\n",
      "\n",
      "Iteration: 13    Score: 6.751820077951695\n",
      "Configuration: {'x1': 1.1270283130961105, 'x2': 1.2903021990715646, 'x3': 1.5952403873202583, 'x4': 0.6514455727657221}\n",
      "\n",
      "Iteration: 14    Score: 9.255178906506877\n",
      "Configuration: {'x1': 2.157476692248414, 'x2': 2.0636980164646372, 'x3': 2.8131049561171184, 'x4': 1.7658524441129724}\n",
      "\n",
      "Task Completed\n",
      "\n",
      "Best Result: { 'configuration': { 'type': 'exploitation',\n",
      "  'values': { 'x1': 2.157476692248414,\n",
      "              'x2': 2.0636980164646372,\n",
      "              'x3': 2.8131049561171184,\n",
      "              'x4': 1.7658524441129724}},\n",
      "  'score': 9.255178906506877,\n",
      "  'user_defined_data': None}\n"
     ]
    }
   ],
   "source": [
    "best_result = task.run(scoring_function, max_iterations=15, score_threshold=32)\n",
    "print(\"Best Result:\", best_result)"
   ]
  },
  {
   "cell_type": "markdown",
   "metadata": {},
   "source": [
    "## Using outside data in a scoring function\n",
    "- Let's say we want to have a scoring function same as above but with varying shifts for the quadratic\n",
    "- We can access outside information by wrapping the scoring function\n",
    "- 'x_shifts' is the outside information, it cannot be modified during optimization"
   ]
  },
  {
   "cell_type": "code",
   "execution_count": 47,
   "metadata": {},
   "outputs": [],
   "source": [
    "def make_scoring_function(x_shifts): \n",
    "    def scoring_function(**params): \n",
    "        score = 10\n",
    "        for param_name, param_value in params.items():\n",
    "            score = score - (param_value - x_shifts[param_name]) ** 2\n",
    "        return score\n",
    "    \n",
    "    return scoring_function"
   ]
  },
  {
   "cell_type": "code",
   "execution_count": 48,
   "metadata": {},
   "outputs": [],
   "source": [
    "# Each quadratic will be shifted by a custom amount. So the new optimum should be at [0.2, 0.5, 0.3, 0.0]\n",
    "param_x_shifts = {'x1': 0.2, 'x2': 0.5, 'x3': 0.3, 'x4': 0.0}\n",
    "\n",
    "scoring_function_with_x_shifts = make_scoring_function(param_x_shifts)  # param_x_shifts are now part of our scoring function"
   ]
  },
  {
   "cell_type": "code",
   "execution_count": 51,
   "metadata": {},
   "outputs": [],
   "source": [
    "from mindfoundry.optaas.client.client import Goal\n",
    "\n",
    "task = client.create_task(\n",
    "    title='Quick Start Example Task',\n",
    "    parameters=params, # Parameters, same as above\n",
    "    goal=Goal.max\n",
    ")"
   ]
  },
  {
   "cell_type": "code",
   "execution_count": 52,
   "metadata": {},
   "outputs": [
    {
     "name": "stdout",
     "output_type": "stream",
     "text": [
      "Running task \"Quick Start Example Task\" for 15 iterations\n",
      "(or until score is 32 or better)\n",
      "\n",
      "Iteration: 0    Score: -0.38\n",
      "Configuration: {'x1': 0, 'x2': 0, 'x3': 0, 'x4': 0}\n",
      "\n",
      "Iteration: 1    Score: -25.38\n",
      "Configuration: {'x1': 2.5, 'x2': -2.5, 'x3': 2.5, 'x4': -2.5}\n",
      "\n",
      "Iteration: 2    Score: -25.38\n",
      "Configuration: {'x1': -2.5, 'x2': 2.5, 'x3': -2.5, 'x4': 2.5}\n",
      "\n",
      "Iteration: 3    Score: -20.13\n",
      "Configuration: {'x1': -1.25, 'x2': -1.25, 'x3': 1.25, 'x4': -3.75}\n",
      "\n",
      "Iteration: 4    Score: -41.129999999999995\n",
      "Configuration: {'x1': 3.75, 'x2': 3.75, 'x3': -3.75, 'x4': 1.25}\n",
      "\n",
      "Iteration: 5    Score: -23.13\n",
      "Configuration: {'x1': 1.25, 'x2': -3.75, 'x3': -1.25, 'x4': -1.25}\n",
      "\n",
      "Iteration: 6    Score: -42.13\n",
      "Configuration: {'x1': -3.75, 'x2': 1.25, 'x3': 3.75, 'x4': 3.75}\n",
      "\n",
      "Iteration: 7    Score: -24.9425\n",
      "Configuration: {'x1': -3.125, 'x2': -1.875, 'x3': -1.875, 'x4': 1.875}\n",
      "\n",
      "Iteration: 8    Score: -27.4425\n",
      "Configuration: {'x1': 1.875, 'x2': 3.125, 'x3': 3.125, 'x4': -3.125}\n",
      "\n",
      "Iteration: 9    Score: -60.4425\n",
      "Configuration: {'x1': 4.375, 'x2': -4.375, 'x3': 0.625, 'x4': 4.375}\n",
      "\n",
      "Iteration: 10    Score: -0.9604993457448219\n",
      "Configuration: {'x1': -0.19888021218150065, 'x2': -0.16485182391566075, 'x3': -0.0271408178849154, 'x4': -0.5023393868536199}\n",
      "\n",
      "Iteration: 11    Score: -0.3036118280041583\n",
      "Configuration: {'x1': -0.05167531087416048, 'x2': 0.4765046654890037, 'x3': -0.10960879368181409, 'x4': -0.26821627708865553}\n",
      "\n",
      "Iteration: 12    Score: -0.8365330883375494\n",
      "Configuration: {'x1': 0.09429852219469013, 'x2': 0.15983447233690318, 'x3': -0.5218889770258125, 'x4': -0.18478692908448227}\n",
      "\n",
      "Iteration: 13    Score: -0.1328698319262578\n",
      "Configuration: {'x1': 0.3011151852955457, 'x2': 0.2915169111171199, 'x3': 0.15143571657162183, 'x4': -0.23897490782124153}\n",
      "\n",
      "Iteration: 14    Score: -0.026336163480260376\n",
      "Configuration: {'x1': 0.13101607578863897, 'x2': 0.38836236795046253, 'x3': 0.2377385002863714, 'x4': -0.07237352032645282}\n",
      "\n",
      "Task Completed\n",
      "\n",
      "Best Result: { 'configuration': { 'type': 'exploitation',\n",
      "  'values': { 'x1': 0.13101607578863897,\n",
      "              'x2': 0.38836236795046253,\n",
      "              'x3': 0.2377385002863714,\n",
      "              'x4': -0.07237352032645282}},\n",
      "  'score': -0.026336163480260376,\n",
      "  'user_defined_data': None}\n"
     ]
    }
   ],
   "source": [
    "best_result = task.run(scoring_function_with_x_shifts, max_iterations=15, score_threshold=32)\n",
    "print(\"Best Result:\", best_result)"
   ]
  },
  {
   "cell_type": "code",
   "execution_count": 53,
   "metadata": {},
   "outputs": [
    {
     "data": {
      "text/plain": [
       "{'x1': 0.2, 'x2': 0.5, 'x3': 0.3, 'x4': 0.0}"
      ]
     },
     "execution_count": 53,
     "metadata": {},
     "output_type": "execute_result"
    }
   ],
   "source": [
    "param_x_shifts"
   ]
  },
  {
   "cell_type": "code",
   "execution_count": null,
   "metadata": {},
   "outputs": [],
   "source": [
    "# The optimization got fairly close to the optimum"
   ]
  }
 ],
 "metadata": {
  "kernelspec": {
   "display_name": "Python 3",
   "language": "python",
   "name": "python3"
  },
  "language_info": {
   "codemirror_mode": {
    "name": "ipython",
    "version": 3
   },
   "file_extension": ".py",
   "mimetype": "text/x-python",
   "name": "python",
   "nbconvert_exporter": "python",
   "pygments_lexer": "ipython3",
   "version": "3.6.3"
  }
 },
 "nbformat": 4,
 "nbformat_minor": 2
}
